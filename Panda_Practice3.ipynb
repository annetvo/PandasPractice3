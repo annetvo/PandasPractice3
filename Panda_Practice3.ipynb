{
 "cells": [
  {
   "cell_type": "markdown",
   "id": "466fd617",
   "metadata": {},
   "source": [
    "keys()\n",
    "<h1>Homework Excersise #1 - Find the Total Number of Runs and RBIs for the Red Sox</h1>\n",
    "<p>Get total number of home runs and rbi's</p>"
   ]
  },
  {
   "cell_type": "code",
   "execution_count": 2,
   "id": "1050c144",
   "metadata": {},
   "outputs": [],
   "source": [
    "import pandas as pd\n",
    "import numpy as np"
   ]
  },
  {
   "cell_type": "code",
   "execution_count": 7,
   "id": "187a94f0",
   "metadata": {},
   "outputs": [
    {
     "name": "stdout",
     "output_type": "stream",
     "text": [
      "          HR  RBI\n",
      "Team             \n",
      "BOS 2017  23   23\n",
      "\n",
      "\n",
      "          HR  RBI\n",
      "Team             \n",
      "BOS 2018  20   20\n"
     ]
    }
   ],
   "source": [
    "boston2017 = pd.read_csv('../files/redsox_2017_hitting.txt', sep=',')\n",
    "boston2018 = pd.read_csv('../files/redsox_2018_hitting.txt', sep=',')\n",
    "# always use pd, standard for data science\n",
    "# step 1: Add a new column with the key 'Team' and all column values should be 'BOS'\n",
    "\n",
    "# step 2: Group by the 'Team' column and get total home runs and rbi's\n",
    "\n",
    "# Produce data for both 2017 and 2018 (ie print both seperated by a newline character \\n)\n",
    "boston2017['Team'] = 'BOS 2017'\n",
    "boston2018['Team'] = 'BOS 2018'\n",
    "\n",
    "print(boston2017.groupby('Team').count()[['HR', 'RBI']])\n",
    "print('\\n')\n",
    "print(boston2018.groupby('Team').count()[['HR', 'RBI']])\n",
    "\n",
    "#TEAM    HR   RBI\n",
    "#----------------\n",
    "#BOS     144  538"
   ]
  },
  {
   "cell_type": "markdown",
   "id": "726a0c2d",
   "metadata": {},
   "source": [
    "<h1>Find the average age of runners in the 2017 Boston Marathon</h1>"
   ]
  },
  {
   "cell_type": "code",
   "execution_count": 15,
   "id": "26ece380",
   "metadata": {},
   "outputs": [
    {
     "name": "stdout",
     "output_type": "stream",
     "text": [
      "Average Age:  Age    42.587732\n",
      "dtype: float64\n"
     ]
    }
   ],
   "source": [
    "bosMarathon2017 = pd.read_csv('../files/boston_marathon2017_edited.csv', sep=',')\n",
    "print(\"Average Age: \", bosMarathon2017.mean()[['Age']])"
   ]
  },
  {
   "cell_type": "code",
   "execution_count": null,
   "id": "e65d5704",
   "metadata": {},
   "outputs": [],
   "source": []
  }
 ],
 "metadata": {
  "kernelspec": {
   "display_name": "Python 3",
   "language": "python",
   "name": "python3"
  },
  "language_info": {
   "codemirror_mode": {
    "name": "ipython",
    "version": 3
   },
   "file_extension": ".py",
   "mimetype": "text/x-python",
   "name": "python",
   "nbconvert_exporter": "python",
   "pygments_lexer": "ipython3",
   "version": "3.8.8"
  }
 },
 "nbformat": 4,
 "nbformat_minor": 5
}
